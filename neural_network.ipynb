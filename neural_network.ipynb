{
 "cells": [
  {
   "cell_type": "markdown",
   "metadata": {},
   "source": [
    "\n",
    "### Rubina Iman Kabir \n"
   ]
  },
  {
   "cell_type": "code",
   "execution_count": 2,
   "metadata": {},
   "outputs": [],
   "source": [
    "# Packages\n",
    "import pandas as pd\n",
    "import random\n",
    "import matplotlib.pyplot as plt\n",
    "import numpy as np\n",
    "from scipy.spatial.distance import euclidean\n",
    "from sklearn.metrics import confusion_matrix,roc_curve,roc_auc_score,auc,accuracy_score\n",
    "from sklearn.metrics import precision_score, recall_score,f1_score, pairwise_distances\n",
    "from sklearn.preprocessing import StandardScaler, MinMaxScaler,LabelBinarizer,OneHotEncoder\n",
    "from sklearn.model_selection import KFold,StratifiedKFold\n",
    "from sklearn.decomposition import PCA\n",
    "from pandas.plotting import scatter_matrix\n",
    "from sklearn.cluster import KMeans\n",
    "import tensorflow as tf\n",
    "import os\n",
    "import cv2\n",
    "import sys"
   ]
  },
  {
   "cell_type": "code",
   "execution_count": 3,
   "metadata": {},
   "outputs": [
    {
     "name": "stderr",
     "output_type": "stream",
     "text": [
      "Using TensorFlow backend.\n"
     ]
    }
   ],
   "source": [
    "from keras.datasets import cifar10\n",
    "from keras.models import Sequential, load_model\n",
    "from keras.layers import Dense, Dropout, Activation, Flatten,Reshape\n",
    "from keras.layers import Convolution2D, MaxPooling2D, LSTM\n",
    "from keras.optimizers import SGD\n",
    "from keras.constraints import maxnorm\n",
    "from keras.utils import np_utils\n",
    "import time, pickle\n",
    "from keras.utils import *\n",
    "from keras.callbacks import ModelCheckpoint"
   ]
  },
  {
   "cell_type": "markdown",
   "metadata": {},
   "source": [
    "## 1. Generative Models for Text"
   ]
  },
  {
   "cell_type": "markdown",
   "metadata": {},
   "source": [
    "https://machinelearningmastery.com/text-generation-lstm-recurrent-neural-networks-python-keras/ was refrenced to complete this task."
   ]
  },
  {
   "cell_type": "markdown",
   "metadata": {},
   "source": [
    "##### (b) Load Data"
   ]
  },
  {
   "cell_type": "code",
   "execution_count": 18,
   "metadata": {},
   "outputs": [],
   "source": [
    "os.chdir('/Users/rubinakabir/Documents/552/books')"
   ]
  },
  {
   "cell_type": "code",
   "execution_count": 19,
   "metadata": {},
   "outputs": [],
   "source": [
    "# Open books\n",
    "books = []\n",
    "for book in os.listdir():\n",
    "    if 'TPP' in book or 'TAM.txt' in book or 'MLOE' in book or 'OKEWFSMP'in book:\n",
    "        with open(book,'r') as file:\n",
    "            book = file.read().lower()\n",
    "            books.append(book)\n",
    "            \n",
    "# Convert to ASCII Integers Representation\n",
    "char_to_int={}\n",
    "c = 0\n",
    "books_to_int = []\n",
    "chars = []\n",
    "for book in books:\n",
    "    char_level = list(book)\n",
    "    for letter in char_level:\n",
    "        if ord(letter) > 255:\n",
    "            continue\n",
    "            \n",
    "        elif letter.isalpha():\n",
    "            char_to_int[letter] = char_to_int.get(letter,c)\n",
    "            books_to_int.append(char_to_int[letter])\n",
    "            chars.append(letter)\n",
    "            \n",
    "        elif letter.isdigit():\n",
    "            char_to_int[letter] = char_to_int.get(letter,c)\n",
    "            books_to_int.append(char_to_int[letter])\n",
    "            chars.append(letter)\n",
    "            \n",
    "        elif ' ' in letter:\n",
    "            char_to_int[letter] = char_to_int.get(letter,c)\n",
    "            books_to_int.append(char_to_int[letter])\n",
    "            chars.append(letter)\n",
    "            \n",
    "        if char_to_int.get(letter) == c:\n",
    "            c = c + 1\n",
    "\n",
    "int_books = np.array(books_to_int)\n",
    "raw_text = np.array(chars)"
   ]
  },
  {
   "cell_type": "code",
   "execution_count": 20,
   "metadata": {},
   "outputs": [],
   "source": [
    "u_chars = sorted(list(set(list(chars)))) # chars\n",
    "n_chars = len(chars)\n",
    "n_vocab = len(u_chars)\n"
   ]
  },
  {
   "cell_type": "markdown",
   "metadata": {},
   "source": [
    "##### (c) LSTM"
   ]
  },
  {
   "cell_type": "markdown",
   "metadata": {},
   "source": [
    "##### Window Size = 99\n",
    "##### Get input and output data"
   ]
  },
  {
   "cell_type": "code",
   "execution_count": 22,
   "metadata": {},
   "outputs": [
    {
     "name": "stdout",
     "output_type": "stream",
     "text": [
      "Total Patterns:  1506821\n"
     ]
    }
   ],
   "source": [
    "# Set up input and output data for LSTM\n",
    "seq_length = 99\n",
    "Xdata = []\n",
    "Ydata = []\n",
    "for i in range(0,n_chars - seq_length,1):\n",
    "    # Get sequence of length 99 from text\n",
    "    seq_in = int_books[i: i + seq_length]\n",
    "    # Get output letter from text\n",
    "    seq_out = int_books[i+seq_length]\n",
    "    Xdata.append(seq_in)\n",
    "    Ydata.append(seq_out)\n",
    "\n",
    "n_patterns = len(Xdata)\n",
    "print(\"Total Patterns: \", n_patterns)"
   ]
  },
  {
   "cell_type": "code",
   "execution_count": 23,
   "metadata": {},
   "outputs": [
    {
     "name": "stdout",
     "output_type": "stream",
     "text": [
      "Input size:\t (1506821, 99, 1)\n",
      "Output size: \t (1506821, 47)\n"
     ]
    }
   ],
   "source": [
    "# Set up data for LSTM\n",
    "Xtrain = np.reshape(Xdata,(n_patterns,seq_length,1))\n",
    "Xtrain = Xtrain / float(n_vocab)\n",
    "Ytrain = np_utils.to_categorical(Ydata)\n",
    "print('Input size:\\t',Xtrain.shape)\n",
    "print('Output size: \\t',Ytrain.shape)"
   ]
  },
  {
   "cell_type": "markdown",
   "metadata": {},
   "source": [
    "###### Output layer size = 47 which is the size of the one hot encode of characters present in text. \n",
    "\n",
    "###### Checkpointing to keep network weights to find best set of weights in terms of loss."
   ]
  },
  {
   "cell_type": "code",
   "execution_count": 27,
   "metadata": {},
   "outputs": [],
   "source": [
    "# LSTM NN\n",
    "model = Sequential()\n",
    "model.add(LSTM(256,input_shape=(Xtrain.shape[1],Xtrain.shape[2])))\n",
    "model.add(Dropout(0.2))\n",
    "model.add(Dense(47,activation='softmax'))\n",
    "model.compile(loss='categorical_crossentropy',optimizer='adam',metrics=['accuracy'])\n",
    "\n",
    "# Checkpoint\n",
    "filepath=\"weights-improvement-{epoch:02d}-{loss:.4f}-bigger.hdf5\"\n",
    "checkpoint = ModelCheckpoint(filepath, monitor='loss', verbose=1, save_best_only=True, mode='min')\n",
    "callbacks_list = [checkpoint]"
   ]
  },
  {
   "cell_type": "markdown",
   "metadata": {},
   "source": [
    "###### LSTM was trained used 7 epochs due to computational power."
   ]
  },
  {
   "cell_type": "code",
   "execution_count": 25,
   "metadata": {},
   "outputs": [
    {
     "name": "stdout",
     "output_type": "stream",
     "text": [
      "Epoch 1/7\n",
      "1506821/1506821 [==============================] - 5885s 4ms/step - loss: 2.7682 - acc: 0.2060\n",
      "\n",
      "Epoch 00001: loss improved from inf to 2.76822, saving model to weights-improvement-01-2.7682-bigger.hdf5\n",
      "Epoch 2/7\n",
      "1506821/1506821 [==============================] - 5914s 4ms/step - loss: 2.3914 - acc: 0.3125\n",
      "\n",
      "Epoch 00002: loss improved from 2.76822 to 2.39135, saving model to weights-improvement-02-2.3914-bigger.hdf5\n",
      "Epoch 3/7\n",
      "1506821/1506821 [==============================] - 5940s 4ms/step - loss: 2.1767 - acc: 0.3810\n",
      "\n",
      "Epoch 00003: loss improved from 2.39135 to 2.17671, saving model to weights-improvement-03-2.1767-bigger.hdf5\n",
      "Epoch 4/7\n",
      "1506821/1506821 [==============================] - 5948s 4ms/step - loss: 2.0515 - acc: 0.4182\n",
      "\n",
      "Epoch 00004: loss improved from 2.17671 to 2.05147, saving model to weights-improvement-04-2.0515-bigger.hdf5\n",
      "Epoch 5/7\n",
      "1506821/1506821 [==============================] - 6006s 4ms/step - loss: 1.9710 - acc: 0.4411\n",
      "\n",
      "Epoch 00005: loss improved from 2.05147 to 1.97097, saving model to weights-improvement-05-1.9710-bigger.hdf5\n",
      "Epoch 6/7\n",
      "1506821/1506821 [==============================] - 5964s 4ms/step - loss: 1.9141 - acc: 0.4573\n",
      "\n",
      "Epoch 00006: loss improved from 1.97097 to 1.91410, saving model to weights-improvement-06-1.9141-bigger.hdf5\n",
      "Epoch 7/7\n",
      "1506821/1506821 [==============================] - 16688s 11ms/step - loss: 1.8702 - acc: 0.4695\n",
      "\n",
      "Epoch 00007: loss improved from 1.91410 to 1.87022, saving model to weights-improvement-07-1.8702-bigger.hdf5\n"
     ]
    }
   ],
   "source": [
    "history = model.fit(Xtrain,Ytrain,epochs = 7,batch_size = 128,callbacks = callbacks_list)\n"
   ]
  },
  {
   "cell_type": "markdown",
   "metadata": {},
   "source": [
    "###### Attempt to mimic Russel's writings by using the network with the best weights"
   ]
  },
  {
   "cell_type": "code",
   "execution_count": 28,
   "metadata": {},
   "outputs": [],
   "source": [
    "# Get epoch with best weights to predict\n",
    "filename = 'weights-improvement-07-1.8702-bigger.hdf5'\n",
    "model.load_weights(filename)\n",
    "model.compile(loss='categorical_crossentropy',optimizer='adam')"
   ]
  },
  {
   "cell_type": "code",
   "execution_count": 29,
   "metadata": {},
   "outputs": [
    {
     "name": "stdout",
     "output_type": "stream",
     "text": [
      "Attempt at mimicing text: \n",
      "\n",
      " there are those who take mental phenomena naively just as they would physical phenomena this school of psychologists tends not to emphasize the object the earticular the rera simele and the earticular the rera simele and the earticular the rera simele and the earticular the rera simele and the earticular the rera simele and the earticular the rera simele and the earticular the rera simele and the earticular the rera simele and the earticular the rera simele and the earticular the rera simele and the earticular the rera simele and the earticular the rera simele and the earticular the rera simele and the earticular the rera simele and the earticular the rera simele and the earticular the rera simele and the earticular the rera simele and the earticular the rera simele and the earticular the rera simele and the earticular the rera simele and the earticular the rera simele and the earticular the rera simele and the earticular the rera simele and the earticular the rera simele and the earticular the rera simele and the earticular the rera simele and the earticular the rera simele and the earticular the rera simele and the earticular the \n"
     ]
    }
   ],
   "source": [
    "# Test LSTM\n",
    "start = '''There are those who take mental phenomena naively just as they would physical phenomena This school of psychologists tends not to emphasize the object'''.lower().strip()\n",
    "pattern=[]\n",
    "for letter in list(start.lower().strip())[0:99]:\n",
    "    pattern.append(char_to_int[letter])\n",
    "int_to_char = dict([[v,k] for k,v in char_to_int.items()])\n",
    "\n",
    "for i in range(1000):\n",
    "    x = np.reshape(pattern, (1,len(pattern), 1))\n",
    "    x = x / float(n_vocab)\n",
    "    prediction = model.predict(x, verbose=0)\n",
    "    index = np.argmax(prediction)\n",
    "    result = int_to_char[index]\n",
    "    seq_in = [int_to_char[value] for value in list(pattern)]\n",
    "    pattern.append(index)\n",
    "    pattern = pattern[1:len(pattern)]\n",
    "    start = start + result\n",
    "print('Attempt at mimicing text: \\n\\n',start)\n"
   ]
  },
  {
   "cell_type": "markdown",
   "metadata": {},
   "source": [
    "The model clearly has issues in mimicing Russel's style and thoughts. It is repeating the same text over and over again-- hence the LSTM is underfit. To improve the model, I could increase the number of epochs to a resonable amount, such as 150, and add more layers to the network."
   ]
  },
  {
   "cell_type": "markdown",
   "metadata": {},
   "source": [
    "## 2. (Deep) CNNs for Image Colorization"
   ]
  },
  {
   "cell_type": "markdown",
   "metadata": {},
   "source": [
    "https://towardsdatascience.com/building-a-convolutional-neural-network-cnn-in-keras-329fbbadc5f5 was refrenced to complete this task."
   ]
  },
  {
   "cell_type": "markdown",
   "metadata": {},
   "source": [
    "#### (b) Extract 'bird' class"
   ]
  },
  {
   "cell_type": "code",
   "execution_count": 3,
   "metadata": {},
   "outputs": [],
   "source": [
    "os.chdir('/Users/rubinakabir/Documents/552/cifar-10-batches-py')"
   ]
  },
  {
   "cell_type": "code",
   "execution_count": 4,
   "metadata": {},
   "outputs": [],
   "source": [
    "# bird is label = 2\n",
    "def unpickle(file):\n",
    "    import pickle\n",
    "    with open(file, 'rb') as fo:\n",
    "        all_data = pickle.load(fo, encoding='bytes')\n",
    "        labels = np.array(all_data[b'labels'])\n",
    "        bird_inds = (labels == 2)\n",
    "        bird_labels = labels[bird_inds]\n",
    "        bird_data = all_data[b'data'][bird_inds]\n",
    "        bird_data = bird_data.reshape((len(bird_data),3,32,32)).transpose(0,2,3,1)\n",
    "    return bird_data\n",
    "\n",
    "# open file and normalize\n",
    "train_birds = []\n",
    "test_birds = []\n",
    "for file in os.listdir():\n",
    "    if '.html' in file or '.meta' in file or '.DS' in file:\n",
    "        continue\n",
    "    elif 'test' in file:\n",
    "        test_birds.append(unpickle(file))\n",
    "    else: \n",
    "        train_birds.append(unpickle(file))\n",
    "data = np.concatenate(train_birds)\n",
    "test = np.concatenate(test_birds)\n"
   ]
  },
  {
   "cell_type": "markdown",
   "metadata": {},
   "source": [
    "##### (c) Select pixels randomly"
   ]
  },
  {
   "cell_type": "code",
   "execution_count": 5,
   "metadata": {},
   "outputs": [
    {
     "data": {
      "text/plain": [
       "4640000"
      ]
     },
     "execution_count": 5,
     "metadata": {},
     "output_type": "execute_result"
    }
   ],
   "source": [
    "P = []\n",
    "for img in data:\n",
    "    for channel in img:\n",
    "        k = int(np.ceil(len(channel) *0.9))\n",
    "        inds = random.sample(range(len(channel)),k)\n",
    "        p = [channel[i] for i in inds]\n",
    "        P.append(p)\n",
    "P = np.concatenate(P)\n",
    "print(P,'  pixels selected to train with K-means.')"
   ]
  },
  {
   "cell_type": "markdown",
   "metadata": {},
   "source": [
    "##### (d) K-means"
   ]
  },
  {
   "cell_type": "code",
   "execution_count": 6,
   "metadata": {},
   "outputs": [
    {
     "data": {
      "text/plain": [
       "array([[156.04399289, 154.77674543, 134.14320553],\n",
       "       [108.16521916, 107.89887291,  82.2344489 ],\n",
       "       [ 48.69392623,  49.57874561,  38.31498142],\n",
       "       [205.69970895, 211.18054929, 210.81239156]])"
      ]
     },
     "execution_count": 6,
     "metadata": {},
     "output_type": "execute_result"
    }
   ],
   "source": [
    "km = KMeans(n_clusters = 4).fit(P)\n",
    "main_colors = km.cluster_centers_\n",
    "#main_colors = np.array([[0,0,128],[230,25,75],[170,255,195],[255,255,255]])\n",
    "print('Selected RGB Triplets:',main_colors)"
   ]
  },
  {
   "cell_type": "code",
   "execution_count": 7,
   "metadata": {},
   "outputs": [],
   "source": [
    "output_data = []\n",
    "cluster_label = []\n",
    "for img in data:\n",
    "    img_data = []\n",
    "    for channel in img:\n",
    "        channel_data = []\n",
    "        for pixel in channel:\n",
    "            dists = []\n",
    "            for color in main_colors:\n",
    "                d = np.sqrt(np.sum((pixel-color)**2))\n",
    "                dists.append(d)\n",
    "            min_ind = np.argmin(dists)\n",
    "            cluster_label.append(min_ind)\n",
    "            new_pixel = [main_colors[min_ind]]\n",
    "            channel_data.append(new_pixel)\n",
    "        channel_data = np.concatenate(channel_data)\n",
    "        img_data.append([channel_data])\n",
    "    img_data = np.concatenate(img_data)  \n",
    "    output_data.append(img_data)\n",
    "    \n",
    "tr_art_data = np.array(output_data)\n",
    "cluster_label = np.array(cluster_label)\n",
    "Ytrain = np_utils.to_categorical(cluster_label,4)\n",
    "Ytrain = Ytrain.reshape(5000,32*32*4)\n",
    "\n",
    "val_art_data = []\n",
    "val_label = []\n",
    "for img in test:\n",
    "    img_data = []\n",
    "    for channel in img:\n",
    "        channel_data = []\n",
    "        for pixel in channel:\n",
    "            dists = []\n",
    "            for color in main_colors:\n",
    "                d = np.sqrt(np.sum((pixel-color)**2))\n",
    "                dists.append(d)\n",
    "            min_ind = np.argmin(dists)\n",
    "            val_label.append(min_ind)\n",
    "            new_pixel = [main_colors[min_ind]]\n",
    "            channel_data.append(new_pixel)\n",
    "        channel_data = np.concatenate(channel_data)\n",
    "        img_data.append([channel_data])\n",
    "    img_data = np.concatenate(img_data)  \n",
    "    val_art_data.append(img_data)\n",
    "\n",
    "val_art_data = np.array(val_art_data)\n",
    "val_label = np.array(val_label)\n",
    "Yval = np_utils.to_categorical(val_label,4)\n",
    "Yval = Yval.reshape(1000,32*32*4)"
   ]
  },
  {
   "cell_type": "markdown",
   "metadata": {},
   "source": [
    "##### (e) Convert images to grayscale"
   ]
  },
  {
   "cell_type": "code",
   "execution_count": 8,
   "metadata": {},
   "outputs": [],
   "source": [
    "# Training Data\n",
    "input_data = []\n",
    "for im in data:\n",
    "    gray = cv2.cvtColor(im,cv2.COLOR_RGB2GRAY)\n",
    "    input_data.append(gray)\n",
    "    \n",
    "Xtrain = np.array(input_data).reshape(5000,32,32,1)\n",
    "\n",
    "# Testing Data\n",
    "val_data = []\n",
    "for im in test:\n",
    "    gray = cv2.cvtColor(im,cv2.COLOR_RGB2GRAY)\n",
    "    val_data.append(gray)\n",
    "\n",
    "val_data = np.array(val_data).reshape(1000,32,32,1)"
   ]
  },
  {
   "cell_type": "markdown",
   "metadata": {},
   "source": [
    "##### (f) Deep CNN"
   ]
  },
  {
   "cell_type": "code",
   "execution_count": 5,
   "metadata": {},
   "outputs": [],
   "source": [
    "model = Sequential()\n",
    "model.add(Convolution2D(32, (5, 5), strides=(1,1), input_shape=(32,32,1), padding='same', activation='relu'))\n",
    "model.add(Dropout(0.2))\n",
    "model.add(Convolution2D(32, (5, 5),activation='relu', padding='same' ))\n",
    "model.add(MaxPooling2D(pool_size=(2,2)))\n",
    "model.add(Convolution2D(32, (5, 5), activation='relu', padding='same' ))\n",
    "model.add(Flatten())\n",
    "model.add(Dense(128))\n",
    "model.add(Dense(512))\n",
    "model.add(Dense(32*32*4,activation='softmax'))\n",
    "\n",
    "# Compile model\n",
    "model.compile(loss='categorical_crossentropy', optimizer='adam', metrics=['accuracy'])\n"
   ]
  },
  {
   "cell_type": "code",
   "execution_count": 15,
   "metadata": {},
   "outputs": [
    {
     "name": "stdout",
     "output_type": "stream",
     "text": [
      "Train on 5000 samples, validate on 1000 samples\n",
      "Epoch 1/60\n",
      "5000/5000 [==============================] - 48s 10ms/step - loss: 8590.8381 - acc: 0.0000e+00 - val_loss: 8473.1331 - val_acc: 0.0000e+00\n",
      "Epoch 2/60\n",
      "5000/5000 [==============================] - 50s 10ms/step - loss: 8470.5651 - acc: 0.0000e+00 - val_loss: 8472.2177 - val_acc: 0.0000e+00\n",
      "Epoch 3/60\n",
      "5000/5000 [==============================] - 48s 10ms/step - loss: 8470.4259 - acc: 0.0000e+00 - val_loss: 8472.4653 - val_acc: 0.0000e+00\n",
      "Epoch 4/60\n",
      "5000/5000 [==============================] - 46s 9ms/step - loss: 8470.2154 - acc: 0.0000e+00 - val_loss: 8471.3312 - val_acc: 0.0000e+00\n",
      "Epoch 5/60\n",
      "5000/5000 [==============================] - 48s 10ms/step - loss: 8470.5678 - acc: 0.0000e+00 - val_loss: 8471.7913 - val_acc: 0.0000e+00\n",
      "Epoch 6/60\n",
      "5000/5000 [==============================] - 53s 11ms/step - loss: 8469.9219 - acc: 0.0000e+00 - val_loss: 8471.3270 - val_acc: 0.0000e+00\n",
      "Epoch 7/60\n",
      "5000/5000 [==============================] - 49s 10ms/step - loss: 8469.4408 - acc: 0.0000e+00 - val_loss: 8472.6357 - val_acc: 0.0000e+00\n",
      "Epoch 8/60\n",
      "5000/5000 [==============================] - 51s 10ms/step - loss: 8470.1632 - acc: 0.0000e+00 - val_loss: 8471.2602 - val_acc: 0.0000e+00\n",
      "Epoch 9/60\n",
      "5000/5000 [==============================] - 52s 10ms/step - loss: 8470.9559 - acc: 0.0000e+00 - val_loss: 8471.6991 - val_acc: 0.0000e+00\n",
      "Epoch 10/60\n",
      "5000/5000 [==============================] - 52s 10ms/step - loss: 8469.4855 - acc: 0.0000e+00 - val_loss: 8471.3479 - val_acc: 0.0000e+00\n",
      "Epoch 11/60\n",
      "5000/5000 [==============================] - 50s 10ms/step - loss: 8468.7892 - acc: 0.0000e+00 - val_loss: 8468.4860 - val_acc: 0.0000e+00\n",
      "Epoch 12/60\n",
      "5000/5000 [==============================] - 49s 10ms/step - loss: 8468.1602 - acc: 0.0000e+00 - val_loss: 8471.4205 - val_acc: 0.0000e+00\n",
      "Epoch 13/60\n",
      "5000/5000 [==============================] - 51s 10ms/step - loss: 8475.2190 - acc: 0.0000e+00 - val_loss: 8472.1004 - val_acc: 0.0000e+00\n",
      "Epoch 14/60\n",
      "5000/5000 [==============================] - 52s 10ms/step - loss: 8470.0145 - acc: 0.0000e+00 - val_loss: 8472.2692 - val_acc: 0.0000e+00\n",
      "Epoch 15/60\n",
      "5000/5000 [==============================] - 52s 10ms/step - loss: 8469.8567 - acc: 0.0000e+00 - val_loss: 8471.9705 - val_acc: 0.0000e+00\n",
      "Epoch 16/60\n",
      "5000/5000 [==============================] - 50s 10ms/step - loss: 8469.4509 - acc: 2.0000e-04 - val_loss: 8471.1787 - val_acc: 0.0000e+00\n",
      "Epoch 17/60\n",
      "5000/5000 [==============================] - 51s 10ms/step - loss: 8468.9514 - acc: 0.0000e+00 - val_loss: 8471.1633 - val_acc: 0.0000e+00\n",
      "Epoch 18/60\n",
      "5000/5000 [==============================] - 51s 10ms/step - loss: 8468.0302 - acc: 0.0000e+00 - val_loss: 8472.4936 - val_acc: 0.0000e+00\n",
      "Epoch 19/60\n",
      "5000/5000 [==============================] - 50s 10ms/step - loss: 8469.2635 - acc: 0.0000e+00 - val_loss: 8471.0545 - val_acc: 0.0000e+00\n",
      "Epoch 20/60\n",
      "5000/5000 [==============================] - 50s 10ms/step - loss: 8467.8171 - acc: 0.0000e+00 - val_loss: 8472.9875 - val_acc: 0.0000e+00\n",
      "Epoch 21/60\n",
      "5000/5000 [==============================] - 50s 10ms/step - loss: 8466.1576 - acc: 0.0000e+00 - val_loss: 8469.0496 - val_acc: 0.0000e+00\n",
      "Epoch 22/60\n",
      "5000/5000 [==============================] - 49s 10ms/step - loss: 8456.2935 - acc: 0.0000e+00 - val_loss: 8447.1424 - val_acc: 0.0000e+00\n",
      "Epoch 23/60\n",
      "5000/5000 [==============================] - 51s 10ms/step - loss: 8376.6423 - acc: 0.0032 - val_loss: 8316.9185 - val_acc: 0.0020\n",
      "Epoch 24/60\n",
      "5000/5000 [==============================] - 50s 10ms/step - loss: 8251.7183 - acc: 0.0058 - val_loss: 8286.4437 - val_acc: 0.0030\n",
      "Epoch 25/60\n",
      "5000/5000 [==============================] - 50s 10ms/step - loss: 8113.3486 - acc: 0.0028 - val_loss: 8244.0057 - val_acc: 0.0020\n",
      "Epoch 26/60\n",
      "5000/5000 [==============================] - 50s 10ms/step - loss: 8022.3362 - acc: 0.0020 - val_loss: 8361.8341 - val_acc: 1.0000e-03\n",
      "Epoch 27/60\n",
      "5000/5000 [==============================] - 54s 11ms/step - loss: 7971.6743 - acc: 8.0000e-04 - val_loss: 8153.4822 - val_acc: 0.0030\n",
      "Epoch 28/60\n",
      "5000/5000 [==============================] - 50s 10ms/step - loss: 7951.0804 - acc: 1.0000e-03 - val_loss: 8129.5942 - val_acc: 0.0040\n",
      "Epoch 29/60\n",
      "5000/5000 [==============================] - 53s 11ms/step - loss: 7916.5162 - acc: 8.0000e-04 - val_loss: 8210.0842 - val_acc: 1.0000e-03\n",
      "Epoch 30/60\n",
      "5000/5000 [==============================] - 52s 10ms/step - loss: 7897.0014 - acc: 2.0000e-04 - val_loss: 8082.9314 - val_acc: 0.0000e+00\n",
      "Epoch 31/60\n",
      "5000/5000 [==============================] - 48s 10ms/step - loss: 7880.2802 - acc: 0.0012 - val_loss: 8289.0244 - val_acc: 0.0000e+00\n",
      "Epoch 32/60\n",
      "5000/5000 [==============================] - 48s 10ms/step - loss: 7869.1808 - acc: 0.0016 - val_loss: 8116.9127 - val_acc: 0.0000e+00\n",
      "Epoch 33/60\n",
      "5000/5000 [==============================] - 48s 10ms/step - loss: 7855.0406 - acc: 8.0000e-04 - val_loss: 8213.8368 - val_acc: 1.0000e-03\n",
      "Epoch 34/60\n",
      "5000/5000 [==============================] - 50s 10ms/step - loss: 7840.0062 - acc: 6.0000e-04 - val_loss: 8056.5811 - val_acc: 0.0030\n",
      "Epoch 35/60\n",
      "5000/5000 [==============================] - 42s 8ms/step - loss: 7837.9160 - acc: 1.0000e-03 - val_loss: 8444.2078 - val_acc: 0.0000e+00\n",
      "Epoch 36/60\n",
      "5000/5000 [==============================] - 42s 8ms/step - loss: 7818.9774 - acc: 4.0000e-04 - val_loss: 8163.2738 - val_acc: 0.0040\n",
      "Epoch 37/60\n",
      "5000/5000 [==============================] - 42s 8ms/step - loss: 7812.1525 - acc: 8.0000e-04 - val_loss: 8218.0890 - val_acc: 1.0000e-03\n",
      "Epoch 38/60\n",
      "5000/5000 [==============================] - 42s 8ms/step - loss: 7806.4930 - acc: 6.0000e-04 - val_loss: 8208.5537 - val_acc: 1.0000e-03\n",
      "Epoch 39/60\n",
      "5000/5000 [==============================] - 42s 8ms/step - loss: 7798.3921 - acc: 6.0000e-04 - val_loss: 8260.4266 - val_acc: 0.0000e+00\n",
      "Epoch 40/60\n",
      "5000/5000 [==============================] - 42s 8ms/step - loss: 7787.6352 - acc: 6.0000e-04 - val_loss: 8036.7565 - val_acc: 0.0000e+00\n",
      "Epoch 41/60\n",
      "5000/5000 [==============================] - 42s 8ms/step - loss: 7787.9842 - acc: 4.0000e-04 - val_loss: 8269.2071 - val_acc: 0.0000e+00\n",
      "Epoch 42/60\n",
      "5000/5000 [==============================] - 42s 8ms/step - loss: 7774.4313 - acc: 6.0000e-04 - val_loss: 8271.5561 - val_acc: 0.0000e+00\n",
      "Epoch 43/60\n",
      "5000/5000 [==============================] - 44s 9ms/step - loss: 7768.7407 - acc: 0.0014 - val_loss: 8370.1886 - val_acc: 1.0000e-03\n",
      "Epoch 44/60\n",
      "5000/5000 [==============================] - 45s 9ms/step - loss: 7767.0756 - acc: 2.0000e-04 - val_loss: 8427.4899 - val_acc: 0.0000e+00\n",
      "Epoch 45/60\n",
      "5000/5000 [==============================] - 45s 9ms/step - loss: 7764.7265 - acc: 4.0000e-04 - val_loss: 8425.0818 - val_acc: 0.0000e+00\n",
      "Epoch 46/60\n",
      "5000/5000 [==============================] - 42s 8ms/step - loss: 7767.1652 - acc: 4.0000e-04 - val_loss: 8050.5864 - val_acc: 0.0020\n",
      "Epoch 47/60\n",
      "5000/5000 [==============================] - 42s 8ms/step - loss: 7756.2471 - acc: 0.0014 - val_loss: 8207.2013 - val_acc: 0.0000e+00\n",
      "Epoch 48/60\n",
      "5000/5000 [==============================] - 42s 8ms/step - loss: 7744.0767 - acc: 2.0000e-04 - val_loss: 8109.3802 - val_acc: 0.0000e+00\n",
      "Epoch 49/60\n",
      "5000/5000 [==============================] - 42s 8ms/step - loss: 7742.5551 - acc: 2.0000e-04 - val_loss: 8319.1081 - val_acc: 0.0000e+00\n",
      "Epoch 50/60\n",
      "5000/5000 [==============================] - 43s 9ms/step - loss: 7741.0498 - acc: 6.0000e-04 - val_loss: 8167.1148 - val_acc: 1.0000e-03\n",
      "Epoch 51/60\n",
      "5000/5000 [==============================] - 42s 8ms/step - loss: 7738.3652 - acc: 2.0000e-04 - val_loss: 8401.8975 - val_acc: 0.0000e+00\n",
      "Epoch 52/60\n",
      "5000/5000 [==============================] - 42s 8ms/step - loss: 7730.4809 - acc: 8.0000e-04 - val_loss: 8229.7668 - val_acc: 1.0000e-03\n",
      "Epoch 53/60\n",
      "5000/5000 [==============================] - 43s 9ms/step - loss: 7733.6211 - acc: 6.0000e-04 - val_loss: 8076.3832 - val_acc: 1.0000e-03\n",
      "Epoch 54/60\n",
      "5000/5000 [==============================] - 42s 8ms/step - loss: 7733.1430 - acc: 1.0000e-03 - val_loss: 8234.7561 - val_acc: 1.0000e-03\n",
      "Epoch 55/60\n",
      "5000/5000 [==============================] - 42s 8ms/step - loss: 7728.3826 - acc: 1.0000e-03 - val_loss: 8609.7830 - val_acc: 0.0000e+00\n",
      "Epoch 56/60\n",
      "5000/5000 [==============================] - 42s 8ms/step - loss: 7730.7134 - acc: 2.0000e-04 - val_loss: 8154.6414 - val_acc: 0.0000e+00\n",
      "Epoch 57/60\n",
      "5000/5000 [==============================] - 42s 8ms/step - loss: 7721.5893 - acc: 1.0000e-03 - val_loss: 8289.7289 - val_acc: 0.0000e+00\n",
      "Epoch 58/60\n",
      "5000/5000 [==============================] - 42s 8ms/step - loss: 7718.2632 - acc: 6.0000e-04 - val_loss: 8079.4189 - val_acc: 0.0030\n",
      "Epoch 59/60\n",
      "5000/5000 [==============================] - 42s 8ms/step - loss: 7717.5476 - acc: 4.0000e-04 - val_loss: 8303.6345 - val_acc: 0.0000e+00\n",
      "Epoch 60/60\n",
      "5000/5000 [==============================] - 43s 9ms/step - loss: 7718.0187 - acc: 6.0000e-04 - val_loss: 8145.7888 - val_acc: 1.0000e-03\n"
     ]
    }
   ],
   "source": [
    "history = model.fit(Xtrain, Ytrain, validation_data=(val_data,Yval),epochs=60, batch_size=32)   \n"
   ]
  },
  {
   "cell_type": "markdown",
   "metadata": {},
   "source": [
    "###### Accracy and loss on train and test data. \n",
    "###### Plots of model loss and accuracy"
   ]
  },
  {
   "cell_type": "code",
   "execution_count": 16,
   "metadata": {},
   "outputs": [
    {
     "name": "stdout",
     "output_type": "stream",
     "text": [
      "5000/5000 [==============================] - 9s 2ms/step\n",
      "\n",
      "\n",
      "\n",
      " Train loss: 8056.898596875\n",
      "Train accuracy: 0.0008\n",
      "1000/1000 [==============================] - 2s 2ms/step\n",
      "\n",
      "\n",
      "\n",
      " Test loss: 8145.78884375\n",
      "Test accuracy: 0.001\n"
     ]
    },
    {
     "data": {
      "text/plain": [
       "<matplotlib.legend.Legend at 0x1a3d1ce208>"
      ]
     },
     "execution_count": 16,
     "metadata": {},
     "output_type": "execute_result"
    },
    {
     "data": {
      "image/png": "[encoded data removed]",
      "text/plain": [
       "<Figure size 432x288 with 1 Axes>"
      ]
     },
     "metadata": {
      "needs_background": "light"
     },
     "output_type": "display_data"
    },
    {
     "data": {
      "image/png": "[encoded data removed]",
      "text/plain": [
       "<Figure size 432x288 with 1 Axes>"
      ]
     },
     "metadata": {
      "needs_background": "light"
     },
     "output_type": "display_data"
    }
   ],
   "source": [
    "scores = model.evaluate(Xtrain, Ytrain, verbose=1)\n",
    "print('\\n\\n\\n Train loss:', scores[0])\n",
    "print('Train accuracy:', scores[1])      \n",
    "\n",
    "scores = model.evaluate(val_data, Yval, verbose=1)\n",
    "print('\\n\\n\\n Test loss:', scores[0])\n",
    "print('Test accuracy:', scores[1])\n",
    "\n",
    "plt.figure()\n",
    "plt.plot(history.history['acc'])\n",
    "plt.plot(history.history['val_acc'])\n",
    "plt.title('Model accuracy')\n",
    "plt.ylabel('Accuracy')\n",
    "plt.xlabel('Epoch')\n",
    "plt.legend(['Train','Test'])\n",
    "\n",
    "plt.figure()\n",
    "plt.plot(history.history['loss'])\n",
    "plt.plot(history.history['val_loss'])\n",
    "plt.title('Model loss')\n",
    "plt.ylabel('Loss')\n",
    "plt.xlabel('Epoch')\n",
    "plt.legend(['Train','Test'])\n"
   ]
  },
  {
   "cell_type": "markdown",
   "metadata": {},
   "source": [
    "The accuracy for both train and test data is all over the place. The training loss has a steep decline within the first couple epochs, then slowly decreases to a steady level as we progress through the epochs, until it reaches about 25 and exhibits another dip. It is hard to tell what the behavior of the validation loss with this plot is -- it seems that as we increase the number of epochs it may continue to have the same behavior for awhile.\n",
    "\n",
    "Increasing the number of epochs should improve the model."
   ]
  },
  {
   "cell_type": "markdown",
   "metadata": {},
   "source": [
    "###### Comparison of artificially colored images from validation set"
   ]
  },
  {
   "cell_type": "code",
   "execution_count": 17,
   "metadata": {},
   "outputs": [
    {
     "data": {
      "text/plain": [
       "<Figure size 432x288 with 0 Axes>"
      ]
     },
     "metadata": {},
     "output_type": "display_data"
    },
    {
     "data": {
      "image/png": "[encoded data removed]",
      "text/plain": [
       "<Figure size 432x288 with 3 Axes>"
      ]
     },
     "metadata": {
      "needs_background": "light"
     },
     "output_type": "display_data"
    },
    {
     "data": {
      "text/plain": [
       "<Figure size 432x288 with 0 Axes>"
      ]
     },
     "metadata": {},
     "output_type": "display_data"
    },
    {
     "data": {
      "image/png": "[encoded data removed]",
      "text/plain": [
       "<Figure size 432x288 with 3 Axes>"
      ]
     },
     "metadata": {
      "needs_background": "light"
     },
     "output_type": "display_data"
    },
    {
     "data": {
      "text/plain": [
       "<Figure size 432x288 with 0 Axes>"
      ]
     },
     "metadata": {},
     "output_type": "display_data"
    },
    {
     "data": {
      "image/png": "[encoded data removed]",
      "text/plain": [
       "<Figure size 432x288 with 3 Axes>"
      ]
     },
     "metadata": {
      "needs_background": "light"
     },
     "output_type": "display_data"
    },
    {
     "data": {
      "text/plain": [
       "<Figure size 432x288 with 0 Axes>"
      ]
     },
     "metadata": {},
     "output_type": "display_data"
    },
    {
     "data": {
      "image/png": "[encoded data removed]",
      "text/plain": [
       "<Figure size 432x288 with 3 Axes>"
      ]
     },
     "metadata": {
      "needs_background": "light"
     },
     "output_type": "display_data"
    },
    {
     "data": {
      "text/plain": [
       "<Figure size 432x288 with 0 Axes>"
      ]
     },
     "metadata": {},
     "output_type": "display_data"
    },
    {
     "data": {
      "image/png": "[encoded data removed]",
      "text/plain": [
       "<Figure size 432x288 with 3 Axes>"
      ]
     },
     "metadata": {
      "needs_background": "light"
     },
     "output_type": "display_data"
    },
    {
     "data": {
      "text/plain": [
       "<Figure size 432x288 with 0 Axes>"
      ]
     },
     "metadata": {},
     "output_type": "display_data"
    },
    {
     "data": {
      "image/png": "[encoded data removed]",
      "text/plain": [
       "<Figure size 432x288 with 3 Axes>"
      ]
     },
     "metadata": {
      "needs_background": "light"
     },
     "output_type": "display_data"
    },
    {
     "data": {
      "text/plain": [
       "<Figure size 432x288 with 0 Axes>"
      ]
     },
     "metadata": {},
     "output_type": "display_data"
    },
    {
     "data": {
      "image/png": "[encoded data removed]",
      "text/plain": [
       "<Figure size 432x288 with 3 Axes>"
      ]
     },
     "metadata": {
      "needs_background": "light"
     },
     "output_type": "display_data"
    },
    {
     "data": {
      "text/plain": [
       "<Figure size 432x288 with 0 Axes>"
      ]
     },
     "metadata": {},
     "output_type": "display_data"
    },
    {
     "data": {
      "image/png": "[encoded data removed]",
      "text/plain": [
       "<Figure size 432x288 with 3 Axes>"
      ]
     },
     "metadata": {
      "needs_background": "light"
     },
     "output_type": "display_data"
    },
    {
     "data": {
      "text/plain": [
       "<Figure size 432x288 with 0 Axes>"
      ]
     },
     "metadata": {},
     "output_type": "display_data"
    },
    {
     "data": {
      "image/png": "[encoded data removed]",
      "text/plain": [
       "<Figure size 432x288 with 3 Axes>"
      ]
     },
     "metadata": {
      "needs_background": "light"
     },
     "output_type": "display_data"
    },
    {
     "data": {
      "text/plain": [
       "<Figure size 432x288 with 0 Axes>"
      ]
     },
     "metadata": {},
     "output_type": "display_data"
    },
    {
     "data": {
      "image/png": "[encoded data removed]",
      "text/plain": [
       "<Figure size 432x288 with 3 Axes>"
      ]
     },
     "metadata": {
      "needs_background": "light"
     },
     "output_type": "display_data"
    }
   ],
   "source": [
    "val_prediction = model.predict(val_data)\n",
    "val_prediction = val_prediction.reshape(1000,32,32,4)\n",
    "# Get coloring from predicted\n",
    "coloring = []\n",
    "for img in val_prediction[0:10]:\n",
    "    colors = []\n",
    "    for channel in img:\n",
    "        for pixel in channel:\n",
    "            max_prob_color = np.argmax(pixel)\n",
    "            colors.append(main_colors[max_prob_color])\n",
    "    colors = np.array(colors)\n",
    "    coloring.append(colors.reshape(32,32,3))\n",
    "    \n",
    "# Plot first 10 images\n",
    "for prediction, img in zip(range(10),val_art_data[0:10]):\n",
    "    plt.figure()\n",
    "    fig,(ax1,ax2,ax3) = plt.subplots(nrows=1,ncols=3)\n",
    "    ax1.imshow(test[prediction])\n",
    "    ax1.set_title('Original')\n",
    "    ax2.imshow(np.uint8(img))\n",
    "    ax2.set_title('K-Means Coloring')\n",
    "    ax3.imshow(np.uint8(coloring[prediction]))\n",
    "    ax3.set_title('CNN Coloring')\n",
    "   "
   ]
  },
  {
   "cell_type": "markdown",
   "metadata": {},
   "source": [
    "The K-Means model artificial coloring job does a good job in coloring the images. \n",
    "\n",
    "The CNN model does an okay job with some images as far as getting the location and shape of the bird in the images, where others it does a horrible job. To improve the model, I could use all possible colors and increase the number of epochs. "
   ]
  }
 ],
 "metadata": {
  "kernelspec": {
   "display_name": "Python 3",
   "language": "python",
   "name": "python3"
  },
  "language_info": {
   "codemirror_mode": {
    "name": "ipython",
    "version": 3
   },
   "file_extension": ".py",
   "mimetype": "text/x-python",
   "name": "python",
   "nbconvert_exporter": "python",
   "pygments_lexer": "ipython3",
   "version": "3.6.8"
  }
 },
 "nbformat": 4,
 "nbformat_minor": 2
}
